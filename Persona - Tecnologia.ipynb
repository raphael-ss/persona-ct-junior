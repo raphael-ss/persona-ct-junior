{
 "cells": [
  {
   "cell_type": "markdown",
   "id": "ad27e5a4",
   "metadata": {},
   "source": [
    "# Análise e Determinação da Persona da CT Junior\n",
    "## Setor de Tecnologia\n",
    "Abaixo se encontra o código, a explicação, as visualizações a respeito dos dados dos clientes passados da CT Junior, e a interpretação dos dados.\n",
    "\n",
    "- Primeiro, devemos abrir o arquivo `persona_tec.csv`, que contém todos os dados: "
   ]
  },
  {
   "cell_type": "code",
   "execution_count": 1,
   "id": "de09b306",
   "metadata": {},
   "outputs": [
    {
     "name": "stdout",
     "output_type": "stream",
     "text": [
      "(0, True, 'Capital_de_Risco', ['Website Institucional'], 'Indicacao', 100000, 2200.0)\n",
      "(0, True, 'Consultoria', ['Website Institucional'], 'Ativa', 0, 1500.0)\n",
      "(0, True, 'Associacao', ['Manutencao do Website'], 'Passiva', 0, 775.0)\n",
      "(1, True, 'Associacao', ['Website Insitucional'], 'Passiva', 0, 1600.0)\n",
      "(1, True, 'Construcao', ['Website Institucional'], 'Passiva', 80000, 2400.0)\n",
      "(0, True, 'Engenharia', ['Website One-Page'], 'Passiva', 10000, 1395.0)\n",
      "(1, True, 'Varejo', ['Website Institucional', 'Sistema Web'], 'Ativa', 29500000, 2500.0)\n",
      "(0, False, 'NULL', ['Website Institucional'], 'Outro', 0, 2500.0)\n",
      "(0, True, 'ONG', ['Website Institucional', 'Prototipo de App'], 'Facebook', 210000, 2500.0)\n",
      "(1, True, 'Orgao Sem Fins Lucrativos', ['Sistema de Selecao'], 'Passiva', 0, 4000.0)\n",
      "(0, True, 'Comercio', ['Prototipo de Sistema', 'Sistema Web'], 'Passiva', 550000, 4750.0)\n",
      "(0, False, 'NULL', ['Website Institucional', 'Landing Pages'], 'Passiva', 0, 1500.0)\n"
     ]
    }
   ],
   "source": [
    "import csv\n",
    "import matplotlib.pyplot as plt\n",
    "import persona as per\n",
    "\n",
    "with open(\"persona_tec.csv\", \"r\") as persona_tec:\n",
    "    csv_reader = csv.reader(persona_tec)\n",
    "    #-Skip header row\n",
    "    next(csv_reader)  \n",
    "    \n",
    "    gender = list()\n",
    "    has_company = list()\n",
    "    company_area = list()\n",
    "    services = list()\n",
    "    sources = list()\n",
    "    social_capital = list()\n",
    "    avg_price = list()\n",
    "    \n",
    "    #-For every client:\n",
    "    for row in csv_reader:\n",
    "        client = row[0]\n",
    "        client = client.split(\";\")\n",
    "        #-Now, 'client' is a list of the client data\n",
    "        #-Gender\n",
    "        if client[2] == \"Masculino\":\n",
    "            gender.append(0)\n",
    "        elif client[2] == \"Feminino\":\n",
    "            gender.append(1)\n",
    "        #-Has Company\n",
    "        if (int(client[5]) == 1) or (int(client[5]) == 2):\n",
    "            has_company.append(True)\n",
    "        elif int(client[5]) == 0:\n",
    "            has_company.append(False)\n",
    "        #-Company Area\n",
    "        company_area.append(client[7])\n",
    "        #-Service\n",
    "        services.append(client[10].split(\"+\"))\n",
    "        #-Source\n",
    "        sources.append(client[11])\n",
    "        #-Social Capital\n",
    "        social_capital.append(int(client[14]))\n",
    "        #-Average Price for Client\n",
    "        avg = int(client[16]) / int(client[15])\n",
    "        avg_price.append(avg)\n",
    "    #-Zip the data into tuples\n",
    "    data = zip(gender, has_company, company_area, services, sources, social_capital, avg_price, strict=True)\n",
    "    data = list(data)\n",
    "    for client in data:\n",
    "        print(client)\n",
    "        "
   ]
  },
  {
   "cell_type": "markdown",
   "id": "9a7f19b3",
   "metadata": {},
   "source": [
    "Agora, temos em mãos somente os dados necessários, já limpos.\n",
    "Para o próximo passo, podemos de fato começar a trabalhar com esses dados.\n",
    "\n",
    "## Análise Descritiva: Medidas de Tendência Central\n",
    "\n",
    "Vamos calcular algumas medidas para obter a persona.\n",
    "\n",
    "### Ticket Médio\n",
    "\n",
    "Calculado por:\n",
    "\n",
    "$$Ticket Medio = \\frac{Faturamento}{N° de Clientes}$$"
   ]
  },
  {
   "cell_type": "code",
   "execution_count": 2,
   "id": "f2050a65",
   "metadata": {},
   "outputs": [
    {
     "name": "stdout",
     "output_type": "stream",
     "text": [
      "O ticket médio de Tecnologia é: R$2301.67\n"
     ]
    }
   ],
   "source": [
    "average_ticket_price = 0.0\n",
    "for client in data:\n",
    "    average_ticket_price += client[6]\n",
    "average_ticket_price /= len(data)\n",
    "average_ticket_price = round(average_ticket_price, 2)\n",
    "print(f\"O ticket médio de Tecnologia é: R${average_ticket_price}\")"
   ]
  },
  {
   "cell_type": "markdown",
   "id": "7ea38d49",
   "metadata": {},
   "source": [
    "Assim, podemos concluir que o **Ticket Médio** é aprox. `R$2302,00`.\n",
    "\n",
    "### Mediana do Capital Social\n",
    "\n",
    "Visto que temos valores extremos, devemos usar a mediana ao invés da média, visto que a mediana é mais resistente contra valores extremos e distribuições distorcidas (*skewed distribution*)."
   ]
  },
  {
   "cell_type": "code",
   "execution_count": 3,
   "id": "f44d3e72",
   "metadata": {},
   "outputs": [
    {
     "name": "stdout",
     "output_type": "stream",
     "text": [
      "A mediana do capital social das empresas que contrataram a CT Junior é: 380000.\n"
     ]
    }
   ],
   "source": [
    "median:float\n",
    "valid_social_capital = list()\n",
    "for client in data:\n",
    "    if client[5] == 0:\n",
    "        continue\n",
    "    else:\n",
    "        valid_social_capital.append(client[5])\n",
    "median = per.calc_median(valid_social_capital)\n",
    "median = round(median)\n",
    "print(f\"A mediana do capital social das empresas que contrataram a CT Junior é: {median}.\")"
   ]
  },
  {
   "cell_type": "markdown",
   "id": "7aa53609",
   "metadata": {},
   "source": [
    "Assim, podemos concluir que a mediana do capital social das empresas que contrataram a CT Junior é `R$380.000,00`\n",
    "\n",
    "## Análise Descritiva: Visualização\n",
    "\n",
    "Fazendo alguns gráficos, podemos ver melhor a distribuição dos valores e o que eles significam.\n",
    "\n",
    "### Empresas x Pessoas Físicas\n",
    "\n",
    "Vamos observar a distribuição de empresas e pessoas físicas que nos contrataram."
   ]
  },
  {
   "cell_type": "code",
   "execution_count": null,
   "id": "f90ad467",
   "metadata": {},
   "outputs": [],
   "source": []
  }
 ],
 "metadata": {
  "kernelspec": {
   "display_name": "Python 3 (ipykernel)",
   "language": "python",
   "name": "python3"
  },
  "language_info": {
   "codemirror_mode": {
    "name": "ipython",
    "version": 3
   },
   "file_extension": ".py",
   "mimetype": "text/x-python",
   "name": "python",
   "nbconvert_exporter": "python",
   "pygments_lexer": "ipython3",
   "version": "3.10.9"
  }
 },
 "nbformat": 4,
 "nbformat_minor": 5
}
